{
  "nbformat": 4,
  "nbformat_minor": 0,
  "metadata": {
    "colab": {
      "provenance": [],
      "gpuType": "T4"
    },
    "kernelspec": {
      "name": "python3",
      "display_name": "Python 3"
    },
    "language_info": {
      "name": "python"
    },
    "accelerator": "GPU"
  },
  "cells": [
    {
      "cell_type": "code",
      "source": [
        "# # Uncomment this cell if you want to save plotly figures locally, otherwise you dont have to pip install.\n",
        "# !pip install -U kaleido"
      ],
      "metadata": {
        "colab": {
          "base_uri": "https://localhost:8080/"
        },
        "id": "lcaPud59UWnf",
        "outputId": "f554ac5f-f1fb-419d-eac7-d48e91e7d29b"
      },
      "execution_count": null,
      "outputs": [
        {
          "output_type": "stream",
          "name": "stdout",
          "text": [
            "Collecting kaleido\n",
            "  Downloading kaleido-0.2.1-py2.py3-none-manylinux1_x86_64.whl.metadata (15 kB)\n",
            "Downloading kaleido-0.2.1-py2.py3-none-manylinux1_x86_64.whl (79.9 MB)\n",
            "\u001b[2K   \u001b[90m━━━━━━━━━━━━━━━━━━━━━━━━━━━━━━━━━━━━━━━━\u001b[0m \u001b[32m79.9/79.9 MB\u001b[0m \u001b[31m9.5 MB/s\u001b[0m eta \u001b[36m0:00:00\u001b[0m\n",
            "\u001b[?25hInstalling collected packages: kaleido\n",
            "Successfully installed kaleido-0.2.1\n"
          ]
        }
      ]
    },
    {
      "cell_type": "markdown",
      "source": [
        "This implementation is inspired from a peper titled \"Quantized Neural Networks: Training Neural Networks with Low Precision Weights and Activations\", by Itay Hubara, Matthieu Courbariaux, Daniel Soudry, Ran El-Yaniv, Yoshua Bengio. They introduced a new method to train neural networks, where weights and activations are binarized at train time, and then used to compute the gradients.\n",
        "\n",
        "- This allows in a drastically less memory and power consumption. matrix multiplication is replaced by bitwise operation"
      ],
      "metadata": {
        "id": "0nXMZsCstyFA"
      }
    },
    {
      "cell_type": "markdown",
      "source": [
        "# Let's train a CNN model on the CIFAR10 Dataset with PyTorch following the classic approach"
      ],
      "metadata": {
        "id": "86Wz5upI6-In"
      }
    },
    {
      "cell_type": "code",
      "execution_count": null,
      "metadata": {
        "id": "PsOBXapotDGX",
        "colab": {
          "base_uri": "https://localhost:8080/"
        },
        "outputId": "ac86da1a-6e94-49cf-e5d4-d3bf1b3d60c9"
      },
      "outputs": [
        {
          "output_type": "stream",
          "name": "stdout",
          "text": [
            "Downloading https://www.cs.toronto.edu/~kriz/cifar-10-python.tar.gz to ./data/cifar-10-python.tar.gz\n"
          ]
        },
        {
          "output_type": "stream",
          "name": "stderr",
          "text": [
            "100%|██████████| 170M/170M [00:18<00:00, 9.17MB/s]\n"
          ]
        },
        {
          "output_type": "stream",
          "name": "stdout",
          "text": [
            "Extracting ./data/cifar-10-python.tar.gz to ./data\n"
          ]
        }
      ],
      "source": [
        "import torch\n",
        "import torch.nn as nn\n",
        "import torchvision\n",
        "import torch.nn.functional as F\n",
        "import torchvision.transforms as transforms\n",
        "import matplotlib.pyplot as plt\n",
        "import numpy as np\n",
        "from torch.utils.data import DataLoader, Dataset\n",
        "\n",
        "# device configuration\n",
        "device = torch.device('cuda' if torch.cuda.is_available() else 'cpu')\n",
        "\n",
        "# Hyperparameters\n",
        "num_epochs = 15\n",
        "learning_rate = 0.001\n",
        "batch_size = 32\n",
        "\n",
        "# Data transformations\n",
        "transform = transforms.Compose([\n",
        "    transforms.ToTensor(),\n",
        "    transforms.Normalize((0.5, 0.5, 0.5), (0.5, 0.5, 0.5))\n",
        "])\n",
        "\n",
        "# Load CIFAR-10 dataset\n",
        "train_dataset = torchvision.datasets.CIFAR10(root='./data', train=True, transform=transform, download=True)\n",
        "test_dataset = torchvision.datasets.CIFAR10(root='./data', train=False, transform=transform)\n",
        "\n",
        "train_loader = DataLoader(train_dataset, batch_size=batch_size, shuffle=True)\n",
        "test_loader = DataLoader(test_dataset, batch_size=batch_size, shuffle=False)\n",
        "\n",
        "classes = ('plane', 'car', 'bird', 'cat', 'deer', 'dog', 'frog', 'horse', 'ship', 'truck')"
      ]
    },
    {
      "cell_type": "markdown",
      "source": [
        "# Let's define our CNN model architecture"
      ],
      "metadata": {
        "id": "drbsjSRy7fgU"
      }
    },
    {
      "cell_type": "code",
      "source": [
        "class CNN(nn.Module):\n",
        "    def __init__(self):\n",
        "        super(CNN, self).__init__()\n",
        "        self.conv1 = nn.Conv2d(3, 32, 3)\n",
        "        self.pool = nn.MaxPool2d(2, 2)\n",
        "        self.conv2 = nn.Conv2d(32, 64, 3)\n",
        "        self.conv3 = nn.Conv2d(64, 64, 3)\n",
        "        self.fc1 = nn.Linear(64 * 4 * 4, 64)\n",
        "        self.fc2 = nn.Linear(64, 10)\n",
        "\n",
        "    def forward(self, x):\n",
        "        x = F.relu(self.conv1(x))\n",
        "        x = self.pool(x)\n",
        "        x = F.relu(self.conv2(x))\n",
        "        x = self.pool(x)\n",
        "        x = F.relu(self.conv3(x))\n",
        "        x = torch.flatten(x, 1)\n",
        "        x = F.relu(self.fc1(x))\n",
        "        x = self.fc2(x)\n",
        "        return x"
      ],
      "metadata": {
        "id": "NXEGc4TxtIDA"
      },
      "execution_count": null,
      "outputs": []
    },
    {
      "cell_type": "code",
      "source": [
        "# Training function\n",
        "def train(model, train_loader, optimizer, loss_fn, num_epochs):\n",
        "    losses = []\n",
        "    accuracies = []\n",
        "    # model.train() ensures the model functions correctly for training by setting up layers like dropout and batch normalization to work as expected.\n",
        "    model.train()\n",
        "\n",
        "    for epoch in range(num_epochs):\n",
        "        epoch_loss = 0\n",
        "        correct = 0\n",
        "        total = 0\n",
        "\n",
        "        for idx, (images, labels) in enumerate(train_loader):\n",
        "            images = images.to(device)\n",
        "            labels = labels.to(device)\n",
        "\n",
        "            # Forward pass\n",
        "            outputs = model(images)\n",
        "\n",
        "            # Calculate loss\n",
        "            loss = loss_fn(outputs, labels)\n",
        "            epoch_loss += loss.item()\n",
        "\n",
        "            # Backpropagation and optimization\n",
        "            optimizer.zero_grad()\n",
        "            loss.backward()\n",
        "            optimizer.step()\n",
        "\n",
        "            # Calculate predictions and update accuracy metrics\n",
        "            _, predicted = torch.max(outputs, 1)\n",
        "            total += labels.size(0)\n",
        "            correct += (predicted == labels).sum().item()\n",
        "\n",
        "        # Calculate average loss and accuracy for the epoch\n",
        "        avg_epoch_loss = epoch_loss / len(train_loader)\n",
        "        epoch_accuracy = 100 * correct / total\n",
        "\n",
        "        # Append loss and accuracy to track\n",
        "        losses.append(avg_epoch_loss)\n",
        "        accuracies.append(epoch_accuracy)\n",
        "\n",
        "        # Print epoch summary\n",
        "        print(f\"Epoch: {epoch + 1}/{num_epochs} | Avg Loss: {avg_epoch_loss:.3f} | Accuracy: {epoch_accuracy:.2f}%\")\n",
        "\n",
        "    return losses, accuracies"
      ],
      "metadata": {
        "id": "wkbVabqhtIFy"
      },
      "execution_count": null,
      "outputs": []
    },
    {
      "cell_type": "code",
      "source": [
        "# Evaluation\n",
        "\n",
        "def evaluate(model, test_loader, model_name):\n",
        "  # Set model to evaluation mode\n",
        "  model.eval()\n",
        "  correct = 0\n",
        "  total = 0\n",
        "  with torch.no_grad():\n",
        "    for idx, (images, labels) in enumerate(test_loader):\n",
        "      images = images.to(device)\n",
        "      labels = labels.to(device)\n",
        "\n",
        "      # Forward pass\n",
        "      outputs = model(images)\n",
        "\n",
        "      # Get predictions (the index of the highest logit corresponds to the predicted class)\n",
        "      _, predicted = torch.max(outputs, 1)\n",
        "\n",
        "      # Update total number of correct predictions\n",
        "      total += labels.size(0)\n",
        "      correct += (predicted == labels).sum().item()\n",
        "  # Calculate accuracy\n",
        "  accuracy = 100 * correct / total\n",
        "  print(f'Accuracy of the model {model_name} on the test set: {accuracy:.2f}%')\n",
        "  return accuracy"
      ],
      "metadata": {
        "id": "v4FmBXITtILD"
      },
      "execution_count": null,
      "outputs": []
    },
    {
      "cell_type": "code",
      "source": [
        "# Model initialization\n",
        "cnn_adam = CNN().to(device)\n",
        "\n",
        "# Loss and optimizer\n",
        "loss_fn = nn.CrossEntropyLoss()\n",
        "optimizer = torch.optim.Adam(cnn_adam.parameters(), lr=learning_rate)\n",
        "\n",
        "print(\"Training Original CNN...\")\n",
        "cnn_adam_losses, cnn_adam_accuracies = train(cnn_adam, train_loader, optimizer, loss_fn, num_epochs)"
      ],
      "metadata": {
        "id": "hAkm7cbmtIIN",
        "colab": {
          "base_uri": "https://localhost:8080/"
        },
        "outputId": "f6fdc735-7ad7-44ec-f232-043c1bb39d51"
      },
      "execution_count": null,
      "outputs": [
        {
          "output_type": "stream",
          "name": "stdout",
          "text": [
            "Training Original CNN...\n",
            "Epoch: 1/15 | Avg Loss: 1.500 | Accuracy: 45.37%\n",
            "Epoch: 2/15 | Avg Loss: 1.139 | Accuracy: 59.66%\n",
            "Epoch: 3/15 | Avg Loss: 0.975 | Accuracy: 65.40%\n",
            "Epoch: 4/15 | Avg Loss: 0.869 | Accuracy: 69.43%\n",
            "Epoch: 5/15 | Avg Loss: 0.793 | Accuracy: 72.19%\n",
            "Epoch: 6/15 | Avg Loss: 0.739 | Accuracy: 73.98%\n",
            "Epoch: 7/15 | Avg Loss: 0.688 | Accuracy: 76.00%\n",
            "Epoch: 8/15 | Avg Loss: 0.643 | Accuracy: 77.42%\n",
            "Epoch: 9/15 | Avg Loss: 0.608 | Accuracy: 78.63%\n",
            "Epoch: 10/15 | Avg Loss: 0.571 | Accuracy: 79.87%\n",
            "Epoch: 11/15 | Avg Loss: 0.543 | Accuracy: 80.83%\n",
            "Epoch: 12/15 | Avg Loss: 0.512 | Accuracy: 81.79%\n",
            "Epoch: 13/15 | Avg Loss: 0.484 | Accuracy: 82.93%\n",
            "Epoch: 14/15 | Avg Loss: 0.456 | Accuracy: 83.86%\n",
            "Epoch: 15/15 | Avg Loss: 0.433 | Accuracy: 84.44%\n"
          ]
        }
      ]
    },
    {
      "cell_type": "code",
      "source": [
        "# Plotting the training loss and accuracy\n",
        "plt.figure(figsize=(12, 5))\n",
        "\n",
        "# Loss plot\n",
        "plt.subplot(1, 2, 1)\n",
        "plt.plot(range(1, num_epochs + 1), cnn_adam_losses, marker='o', color='b', label='Training Loss')\n",
        "plt.xlabel('Epoch')\n",
        "plt.ylabel('Loss')\n",
        "plt.title('Training Loss per Epoch')\n",
        "plt.legend()\n",
        "plt.grid(True)\n",
        "\n",
        "# Accuracy plot\n",
        "plt.subplot(1, 2, 2)\n",
        "plt.plot(range(1, num_epochs + 1), cnn_adam_accuracies, marker='o', color='g', label='Training Accuracy')\n",
        "plt.xlabel('Epoch')\n",
        "plt.ylabel('Accuracy (%)')\n",
        "plt.title('Training Accuracy per Epoch')\n",
        "plt.legend()\n",
        "plt.grid(True)\n",
        "\n",
        "plt.savefig('standard_cnn_trainAcc_loss.png', transparent=True)\n",
        "\n",
        "plt.show()"
      ],
      "metadata": {
        "colab": {
          "base_uri": "https://localhost:8080/",
          "height": 487
        },
        "id": "9kuNenjxQUDZ",
        "outputId": "c4ff3f57-e109-423c-a730-854d6d49c47b"
      },
      "execution_count": null,
      "outputs": [
        {
          "output_type": "display_data",
          "data": {
            "text/plain": [
              "<Figure size 1200x500 with 2 Axes>"
            ],
            "image/png": "[encoded data removed]"
          },
          "metadata": {}
        }
      ]
    },
    {
      "cell_type": "code",
      "source": [
        "cnn_adam_acc = evaluate(cnn_adam, test_loader, 'CNN Model with Adam optimizer')"
      ],
      "metadata": {
        "colab": {
          "base_uri": "https://localhost:8080/"
        },
        "id": "6jiX8_jLVK7n",
        "outputId": "e3232d28-b284-4365-bbc8-7cd02f5b54e4"
      },
      "execution_count": null,
      "outputs": [
        {
          "output_type": "stream",
          "name": "stdout",
          "text": [
            "Accuracy of the model CNN Model with Adam optimizer on the test set: 72.95%\n"
          ]
        }
      ]
    },
    {
      "cell_type": "code",
      "source": [
        "# Model initialization\n",
        "cnn_sgd = CNN().to(device)\n",
        "\n",
        "# Loss and optimizer\n",
        "loss_fn = nn.CrossEntropyLoss()\n",
        "optimizer = torch.optim.SGD(cnn_sgd.parameters(), lr=learning_rate)\n",
        "\n",
        "print(\"Training Original CNN...\")\n",
        "cnn_sgd_losses, cnn_sgd_train_acc = train(cnn_sgd, train_loader, optimizer, loss_fn, num_epochs)"
      ],
      "metadata": {
        "colab": {
          "base_uri": "https://localhost:8080/"
        },
        "id": "1p7I0P3lfdHq",
        "outputId": "136c54c3-2f22-4dea-9445-4e663f2a59a6"
      },
      "execution_count": null,
      "outputs": [
        {
          "output_type": "stream",
          "name": "stdout",
          "text": [
            "Training Original CNN...\n",
            "Epoch: 1 | Loss: 2.298\n",
            "Epoch: 2 | Loss: 2.284\n",
            "Epoch: 3 | Loss: 2.222\n",
            "Epoch: 4 | Loss: 2.146\n",
            "Epoch: 5 | Loss: 2.036\n",
            "Epoch: 6 | Loss: 1.932\n",
            "Epoch: 7 | Loss: 1.913\n",
            "Epoch: 8 | Loss: 1.649\n",
            "Epoch: 9 | Loss: 1.261\n",
            "Epoch: 10 | Loss: 1.761\n",
            "Epoch: 11 | Loss: 1.903\n",
            "Epoch: 12 | Loss: 1.612\n",
            "Epoch: 13 | Loss: 1.717\n",
            "Epoch: 14 | Loss: 1.845\n",
            "Epoch: 15 | Loss: 1.613\n"
          ]
        }
      ]
    },
    {
      "cell_type": "code",
      "source": [
        "cnn_sgd_acc = evaluate(cnn_sgd, test_loader, 'CNN Model with SGD')"
      ],
      "metadata": {
        "colab": {
          "base_uri": "https://localhost:8080/"
        },
        "id": "r3-BbXArVR0m",
        "outputId": "40153a68-d99a-4e52-ba67-0e7f1626950f"
      },
      "execution_count": null,
      "outputs": [
        {
          "output_type": "stream",
          "name": "stdout",
          "text": [
            "Accuracy of the model CNN Model with SGD on the test set: 42.66%\n"
          ]
        }
      ]
    },
    {
      "cell_type": "code",
      "source": [
        "pytorch_total_params = sum(p.numel() for p in cnn_adam.parameters())\n",
        "pytorch_total_params"
      ],
      "metadata": {
        "colab": {
          "base_uri": "https://localhost:8080/"
        },
        "id": "5xVYoCl7j5T0",
        "outputId": "1fa44cb8-5b52-4d2e-f825-43b2321964cb"
      },
      "execution_count": null,
      "outputs": [
        {
          "output_type": "execute_result",
          "data": {
            "text/plain": [
              "122570"
            ]
          },
          "metadata": {},
          "execution_count": 12
        }
      ]
    },
    {
      "cell_type": "markdown",
      "source": [
        "# Let's build our Binarized version which will contains:\n",
        "  - Weights and activations are constrained to be either +1 or -1.\n",
        "    - To constrain weights between -1 and 1, we use a deterministic sign function defined as: quantized_x = sign(x) = +1 if x >= 1 else -1.\n",
        "    - To constrain activations between -1 and 1 we use the HardTanh Activation Function\n",
        "  - Instead of standard convolution and linear layers, we use a binarized versions (BinarizeConv2d and BinarizeLinear).\n"
      ],
      "metadata": {
        "id": "XmqoqXzeFMRi"
      }
    },
    {
      "cell_type": "code",
      "source": [
        "import torch\n",
        "import torch.nn as nn\n",
        "import torch.nn.functional as F\n",
        "from torch.autograd import Function\n",
        "\n",
        "# Binarization function with Straight-Through Estimator (STE)\n",
        "class Binarize(Function):\n",
        "    @staticmethod\n",
        "    def forward(ctx, input, quant_mode='det', allow_scale=False):\n",
        "        # Binarize input deterministically or stochastically\n",
        "        scale = input.abs().max() if allow_scale else 1\n",
        "\n",
        "        if quant_mode == 'det':  # Deterministic\n",
        "            return input.div(scale).sign().mul(scale)\n",
        "        else:  # Stochastic\n",
        "            output = input.div(scale).add(1).div(2)\n",
        "            return output.add_(torch.rand(output.size()).add(-0.5)).clamp_(0,1).round().mul_(2).add_(-1).mul(scale)\n",
        "\n",
        "    @staticmethod\n",
        "    def backward(ctx, grad_output):\n",
        "        # Straight-Through Estimator (STE)\n",
        "        grad_input = grad_output.clone()\n",
        "        return grad_input, None, None\n",
        "\n",
        "# Helper function to binarize activations and weights\n",
        "def binarize(input, quant_mode='det'):\n",
        "    return Binarize.apply(input, quant_mode)\n",
        "\n",
        "# Binarized Convolutional Layer with Batch Normalization\n",
        "class BinarizeConv2d(nn.Conv2d):\n",
        "    def __init__(self, *args, **kwargs):\n",
        "        super(BinarizeConv2d, self).__init__(*args, **kwargs)\n",
        "        self.bn = nn.BatchNorm2d(self.out_channels)\n",
        "\n",
        "    def forward(self, input):\n",
        "        if input.size(1) != 3:  # Binarize input except for first layer (e.g., CIFAR-10 with 3 channels)\n",
        "            input_b = binarize(input)\n",
        "        else:\n",
        "            input_b = input\n",
        "\n",
        "        # Binarize weights\n",
        "        weight_b = binarize(self.weight)\n",
        "\n",
        "        # Convolution with binarized weights and input\n",
        "        out = F.conv2d(input_b, weight_b, None, self.stride, self.padding, self.dilation, self.groups)\n",
        "\n",
        "        # Apply batch normalization\n",
        "        out = self.bn(out)\n",
        "\n",
        "        # Add bias if applicable\n",
        "        if self.bias is not None:\n",
        "            out += self.bias.view(1, -1, 1, 1).expand_as(out)\n",
        "\n",
        "        return out\n",
        "\n",
        "# Binarized Fully Connected Layer with Batch Normalization\n",
        "class BinarizeLinear(nn.Linear):\n",
        "    def __init__(self, *args, **kwargs):\n",
        "        super(BinarizeLinear, self).__init__(*args, **kwargs)\n",
        "        self.bn = nn.BatchNorm1d(self.out_features)\n",
        "\n",
        "    def forward(self, input):\n",
        "        # Binarize input except for first layer (e.g., input size of 784 for MNIST)\n",
        "        if input.size(1) != 784:\n",
        "            input_b = binarize(input)\n",
        "        else:\n",
        "            input_b = input\n",
        "\n",
        "        # Binarize weights\n",
        "        weight_b = binarize(self.weight)\n",
        "\n",
        "        # Linear operation with binarized input and weights\n",
        "        out = F.linear(input_b, weight_b)\n",
        "\n",
        "        # Apply batch normalization\n",
        "        out = self.bn(out)\n",
        "\n",
        "        # Add bias if applicable\n",
        "        if self.bias is not None:\n",
        "            out += self.bias.view(1, -1).expand_as(out)\n",
        "\n",
        "        return out"
      ],
      "metadata": {
        "id": "iGAva4sIn1Va"
      },
      "execution_count": null,
      "outputs": []
    },
    {
      "cell_type": "markdown",
      "source": [
        "# Lets define our Binarized CNN model architecture."
      ],
      "metadata": {
        "id": "YBd37TROd3-c"
      }
    },
    {
      "cell_type": "code",
      "source": [
        "class BinarizedCNN(nn.Module):\n",
        "    def __init__(self):\n",
        "        super(BinarizedCNN, self).__init__()\n",
        "        self.conv1 = BinarizeConv2d(3, 32, 3)\n",
        "        self.pool = nn.MaxPool2d(2, 2)\n",
        "        self.conv2 = BinarizeConv2d(32, 64, 3)\n",
        "        self.conv3 = BinarizeConv2d(64, 64, 3)\n",
        "        self.fc1 = BinarizeLinear(64 * 4 * 4, 64)\n",
        "        self.fc2 = BinarizeLinear(64, 10)\n",
        "\n",
        "    def forward(self, x):\n",
        "        x = F.hardtanh(self.conv1(x))\n",
        "        x = self.pool(x)\n",
        "        x = F.hardtanh(self.conv2(x))\n",
        "        x = self.pool(x)\n",
        "        x = F.hardtanh(self.conv3(x))\n",
        "\n",
        "        x = torch.flatten(x, 1)\n",
        "        x = F.hardtanh(self.fc1(x))\n",
        "        x = self.fc2(x)\n",
        "\n",
        "        return x"
      ],
      "metadata": {
        "id": "78qryeI5n1X_"
      },
      "execution_count": null,
      "outputs": []
    },
    {
      "cell_type": "code",
      "source": [
        "# Hinge Loss Function\n",
        "class HingeLoss(nn.Module):\n",
        "    def __init__(self):\n",
        "        super(HingeLoss,self).__init__()\n",
        "        self.margin=1.0\n",
        "\n",
        "    def hinge_loss(self,input,target):\n",
        "            #import pdb; pdb.set_trace()\n",
        "            output=self.margin-input.mul(target)\n",
        "            output[output.le(0)]=0\n",
        "            return output.mean()\n",
        "\n",
        "    def forward(self, input, target):\n",
        "        return self.hinge_loss(input,target)"
      ],
      "metadata": {
        "id": "cNwgPh5vn1ar"
      },
      "execution_count": null,
      "outputs": []
    },
    {
      "cell_type": "code",
      "source": [
        "# Training\n",
        "def train(model, train_loader, optimizer, loss_fn, num_epochs, device):\n",
        "    losses = []\n",
        "    model.train()\n",
        "\n",
        "    for epoch in range(num_epochs):\n",
        "        for images, labels in train_loader:\n",
        "            images = images.to(device)\n",
        "            labels = labels.to(device)\n",
        "\n",
        "            # Convert integer labels to one-hot encoded format with 10 classes\n",
        "            labels_one_hot = F.one_hot(labels, num_classes=10).float()\n",
        "\n",
        "            # Forward pass\n",
        "            outputs = model(images)\n",
        "\n",
        "            # Compute loss with one-hot encoded targets\n",
        "            loss = loss_fn(outputs, labels_one_hot)\n",
        "\n",
        "            # Backward pass and optimization\n",
        "            optimizer.zero_grad()\n",
        "            loss.backward()\n",
        "            optimizer.step()\n",
        "\n",
        "        print(f\"Epoch: {epoch + 1} | Loss: {loss.item():.3f}\")\n",
        "        losses.append(loss.item())\n",
        "\n",
        "    return losses"
      ],
      "metadata": {
        "id": "Pc7iRRncn-Rf"
      },
      "execution_count": null,
      "outputs": []
    },
    {
      "cell_type": "code",
      "source": [
        "# Evaluation for Binarized CNN\n",
        "\n",
        "def evaluate_binarized(model, test_loader, model_name):\n",
        "    # Set model to evaluation mode\n",
        "    model.eval()\n",
        "    correct = 0\n",
        "    total = 0\n",
        "    with torch.no_grad():\n",
        "        for idx, (images, labels) in enumerate(test_loader):\n",
        "            images = images.to(device)\n",
        "            labels = labels.to(device)\n",
        "\n",
        "            # Forward pass\n",
        "            outputs = model(images)\n",
        "\n",
        "            # Get predictions\n",
        "            _, predicted = torch.max(outputs, 1)\n",
        "\n",
        "            # Update total number of correct predictions\n",
        "            total += labels.size(0)\n",
        "            correct += (predicted == labels).sum().item()\n",
        "\n",
        "    # Calculate accuracy\n",
        "    accuracy = 100 * correct / total\n",
        "    print(f'Accuracy of the model {model_name} on the test set: {accuracy:.2f}%')\n",
        "    return accuracy"
      ],
      "metadata": {
        "id": "EXmpXcMBY3PP"
      },
      "execution_count": null,
      "outputs": []
    },
    {
      "cell_type": "markdown",
      "source": [
        "# Binarized CNN with HingeLoss and SGD"
      ],
      "metadata": {
        "id": "qDmVTZcRJN8j"
      }
    },
    {
      "cell_type": "code",
      "source": [
        "binarized_cnn_hinge_sgd = BinarizedCNN().to(device)\n",
        "\n",
        "# Loss and optimizer\n",
        "criterion = HingeLoss()  # Use HingeLoss for BNN (or torch.nn.CrossEntropyLoss() as alternative)\n",
        "optimizer = torch.optim.SGD(binarized_cnn_hinge_sgd.parameters(), lr=learning_rate)\n",
        "\n",
        "# Training the Binarized CNN\n",
        "print(\"Training Binarized CNN...\")\n",
        "binarized_hinge_sgd_losses = train(binarized_cnn_hinge_sgd, train_loader, optimizer, criterion, num_epochs, device)"
      ],
      "metadata": {
        "id": "PcCXylbpn-UF",
        "colab": {
          "base_uri": "https://localhost:8080/"
        },
        "outputId": "d7b50481-5f53-456b-b27f-50362768327e"
      },
      "execution_count": null,
      "outputs": [
        {
          "output_type": "stream",
          "name": "stdout",
          "text": [
            "Training Binarized CNN...\n",
            "Epoch: 1 | Loss: 0.996\n",
            "Epoch: 2 | Loss: 0.968\n",
            "Epoch: 3 | Loss: 0.924\n",
            "Epoch: 4 | Loss: 0.934\n",
            "Epoch: 5 | Loss: 0.929\n",
            "Epoch: 6 | Loss: 0.913\n",
            "Epoch: 7 | Loss: 0.907\n",
            "Epoch: 8 | Loss: 0.910\n",
            "Epoch: 9 | Loss: 0.900\n",
            "Epoch: 10 | Loss: 0.903\n",
            "Epoch: 11 | Loss: 0.901\n",
            "Epoch: 12 | Loss: 0.903\n",
            "Epoch: 13 | Loss: 0.900\n",
            "Epoch: 14 | Loss: 0.900\n",
            "Epoch: 15 | Loss: 0.902\n"
          ]
        }
      ]
    },
    {
      "cell_type": "code",
      "source": [
        "plot_losses(binarized_hinge_sgd_losses)"
      ],
      "metadata": {
        "colab": {
          "base_uri": "https://localhost:8080/",
          "height": 487
        },
        "id": "1MmzydW-n-eH",
        "outputId": "296d82be-980a-4f11-aa74-7fb8957bd2d3"
      },
      "execution_count": null,
      "outputs": [
        {
          "output_type": "display_data",
          "data": {
            "text/plain": [
              "<Figure size 1000x500 with 1 Axes>"
            ],
            "image/png": "[encoded data removed]"
          },
          "metadata": {}
        }
      ]
    },
    {
      "cell_type": "code",
      "source": [
        "# Evaluate Binarized CNN\n",
        "binarized_hinge_sgd_acc = evaluate_binarized(binarized_cnn_hinge_sgd, test_loader, 'Binarized CNN With HingleLoss and SGD')"
      ],
      "metadata": {
        "colab": {
          "base_uri": "https://localhost:8080/"
        },
        "id": "Icu_dbm4n1dh",
        "outputId": "79d009c0-0e2c-4a00-99c3-321584115455"
      },
      "execution_count": null,
      "outputs": [
        {
          "output_type": "stream",
          "name": "stdout",
          "text": [
            "Accuracy of the model Binarized CNN With HingleLoss and SGD on the test set: 17.26%\n"
          ]
        }
      ]
    },
    {
      "cell_type": "markdown",
      "source": [
        "# Binarized CNN with Hingeloss and Adam"
      ],
      "metadata": {
        "id": "l54x1oNWI53S"
      }
    },
    {
      "cell_type": "code",
      "source": [
        "# Let's use CrossEntropyLoss\n",
        "\n",
        "binarized_cnn_hinge_adam = BinarizedCNN().to(device)\n",
        "\n",
        "criterion = HingeLoss()\n",
        "optimizer = torch.optim.Adam(binarized_cnn_hinge_adam.parameters(), lr=learning_rate)\n",
        "\n",
        "binarized_hinge_adam_losses = train(binarized_cnn_hinge_adam, train_loader, optimizer, criterion, num_epochs, device)"
      ],
      "metadata": {
        "colab": {
          "base_uri": "https://localhost:8080/"
        },
        "id": "VxUu3de-qL9d",
        "outputId": "d964149c-1138-4974-a0f6-70b54ffbda00"
      },
      "execution_count": null,
      "outputs": [
        {
          "output_type": "stream",
          "name": "stdout",
          "text": [
            "Epoch: 1 | Loss: 0.900\n",
            "Epoch: 2 | Loss: 0.900\n",
            "Epoch: 3 | Loss: 0.900\n",
            "Epoch: 4 | Loss: 0.900\n",
            "Epoch: 5 | Loss: 0.900\n",
            "Epoch: 6 | Loss: 0.900\n",
            "Epoch: 7 | Loss: 0.900\n",
            "Epoch: 8 | Loss: 0.900\n",
            "Epoch: 9 | Loss: 0.900\n",
            "Epoch: 10 | Loss: 0.900\n",
            "Epoch: 11 | Loss: 0.900\n",
            "Epoch: 12 | Loss: 0.900\n",
            "Epoch: 13 | Loss: 0.900\n",
            "Epoch: 14 | Loss: 0.900\n",
            "Epoch: 15 | Loss: 0.900\n"
          ]
        }
      ]
    },
    {
      "cell_type": "code",
      "source": [
        "binarized_hinge_adam_acc = evaluate_binarized(binarized_cnn_hinge_adam, test_loader, 'Binarized CNN with CrossEntropyLoss and SGD optimizer')"
      ],
      "metadata": {
        "colab": {
          "base_uri": "https://localhost:8080/"
        },
        "id": "-efkGN7Ipe3J",
        "outputId": "6ebe6a8d-9bcc-4681-b1ab-96e8102861e4"
      },
      "execution_count": null,
      "outputs": [
        {
          "output_type": "stream",
          "name": "stdout",
          "text": [
            "Accuracy of the model Binarized CNN with CrossEntropyLoss and SGD optimizer on the test set: 21.26%\n"
          ]
        }
      ]
    },
    {
      "cell_type": "markdown",
      "source": [
        "# Binarized CNN with cross entropy loss and SGD"
      ],
      "metadata": {
        "id": "GmWWvDTtahtt"
      }
    },
    {
      "cell_type": "code",
      "source": [
        "# Let's use CrossEntropyLoss and SGD\n",
        "\n",
        "binarized_cnn_cross_sgd = BinarizedCNN().to(device)\n",
        "\n",
        "criterion = nn.CrossEntropyLoss()\n",
        "optimizer = torch.optim.SGD(binarized_cnn_cross_sgd.parameters(), lr=learning_rate)\n",
        "\n",
        "binarized_cross_sgd_losses = train(binarized_cnn_cross_sgd, train_loader, optimizer, criterion, num_epochs, device)"
      ],
      "metadata": {
        "id": "Whwa7hUVpfDW",
        "colab": {
          "base_uri": "https://localhost:8080/"
        },
        "outputId": "20a070e1-6c46-401d-835e-70b0001350d3"
      },
      "execution_count": null,
      "outputs": [
        {
          "output_type": "stream",
          "name": "stdout",
          "text": [
            "Epoch: 1 | Loss: 2.137\n",
            "Epoch: 2 | Loss: 2.006\n",
            "Epoch: 3 | Loss: 2.134\n",
            "Epoch: 4 | Loss: 2.063\n",
            "Epoch: 5 | Loss: 2.035\n",
            "Epoch: 6 | Loss: 1.783\n",
            "Epoch: 7 | Loss: 2.137\n",
            "Epoch: 8 | Loss: 2.218\n",
            "Epoch: 9 | Loss: 1.481\n",
            "Epoch: 10 | Loss: 2.362\n",
            "Epoch: 11 | Loss: 1.800\n",
            "Epoch: 12 | Loss: 1.719\n",
            "Epoch: 13 | Loss: 1.879\n",
            "Epoch: 14 | Loss: 1.805\n",
            "Epoch: 15 | Loss: 1.567\n"
          ]
        }
      ]
    },
    {
      "cell_type": "code",
      "source": [
        "binarized_cross_sgd_acc = evaluate_binarized(binarized_cnn_cross_sgd, test_loader, 'Binarized CNN with crossentropyloss and adam optmizer')"
      ],
      "metadata": {
        "id": "G8VzKdFvn1gM",
        "colab": {
          "base_uri": "https://localhost:8080/"
        },
        "outputId": "3db84401-3e1b-47b3-b2ee-469ff2ac9ec1"
      },
      "execution_count": null,
      "outputs": [
        {
          "output_type": "stream",
          "name": "stdout",
          "text": [
            "Accuracy of the model Binarized CNN with crossentropyloss and adam optmizer on the test set: 38.47%\n"
          ]
        }
      ]
    },
    {
      "cell_type": "markdown",
      "source": [
        "# Binarized CNN with cross entropy loss and Adam optimizer"
      ],
      "metadata": {
        "id": "OQMylO6PrxPe"
      }
    },
    {
      "cell_type": "code",
      "source": [
        "# Let's use CrossEntropyLoss and Adam\n",
        "\n",
        "binarized_cnn_cross_adam = BinarizedCNN().to(device)\n",
        "\n",
        "criterion = nn.CrossEntropyLoss()\n",
        "optimizer = torch.optim.Adam(binarized_cnn_cross_adam.parameters(), lr=learning_rate)\n",
        "\n",
        "binarized_cross_adam_losses = train(binarized_cnn_cross_adam, train_loader, optimizer, criterion, num_epochs, device)"
      ],
      "metadata": {
        "colab": {
          "base_uri": "https://localhost:8080/"
        },
        "id": "izbF38n9pe8N",
        "outputId": "6730330d-2144-4158-eb8a-a8e9947e2859"
      },
      "execution_count": null,
      "outputs": [
        {
          "output_type": "stream",
          "name": "stdout",
          "text": [
            "Epoch: 1 | Loss: 1.432\n",
            "Epoch: 2 | Loss: 1.492\n",
            "Epoch: 3 | Loss: 1.374\n",
            "Epoch: 4 | Loss: 1.619\n",
            "Epoch: 5 | Loss: 0.899\n",
            "Epoch: 6 | Loss: 1.346\n",
            "Epoch: 7 | Loss: 0.963\n",
            "Epoch: 8 | Loss: 1.228\n",
            "Epoch: 9 | Loss: 1.434\n",
            "Epoch: 10 | Loss: 1.599\n",
            "Epoch: 11 | Loss: 1.231\n",
            "Epoch: 12 | Loss: 1.143\n",
            "Epoch: 13 | Loss: 1.072\n",
            "Epoch: 14 | Loss: 1.027\n",
            "Epoch: 15 | Loss: 1.390\n"
          ]
        }
      ]
    },
    {
      "cell_type": "code",
      "source": [
        "binarized_cross_adam_acc = evaluate_binarized(binarized_cnn_cross_adam, test_loader, 'Binarized CNN with crossentropyloss and adam optmizer')"
      ],
      "metadata": {
        "colab": {
          "base_uri": "https://localhost:8080/"
        },
        "id": "_usxLNH-pe-z",
        "outputId": "8662575e-d08d-464a-93d7-f9bc117b45df"
      },
      "execution_count": null,
      "outputs": [
        {
          "output_type": "stream",
          "name": "stdout",
          "text": [
            "Accuracy of the model Binarized CNN with crossentropyloss and adam optmizer on the test set: 62.35%\n"
          ]
        }
      ]
    },
    {
      "cell_type": "markdown",
      "source": [
        "# Lets compare the resulted Accuracies from our experiments."
      ],
      "metadata": {
        "id": "nyQYYYcT9X6p"
      }
    },
    {
      "cell_type": "code",
      "source": [
        "import plotly.graph_objects as go\n",
        "\n",
        "# Accuracies for each model configuration\n",
        "models = [\n",
        "    \"CNN (Cross Entropy, Adam)\",\n",
        "    \"CNN (Cross Entropy, SGD)\",\n",
        "    \"Binarized CNN (Hinge Loss, SGD)\",\n",
        "    \"Binarized CNN (Hinge Loss, Adam)\",\n",
        "    \"Binarized CNN (Cross Entropy, SGD)\",\n",
        "    \"Binarized CNN (Cross Entropy, Adam)\"\n",
        "]\n",
        "\n",
        "accuracies = [\n",
        "    cnn_adam_acc,\n",
        "    cnn_sgd_acc,\n",
        "    binarized_hinge_sgd_acc,\n",
        "    binarized_hinge_adam_acc,\n",
        "    binarized_cross_sgd_acc,\n",
        "    binarized_cross_adam_acc\n",
        "]"
      ],
      "metadata": {
        "id": "mBobQe9rUWvE"
      },
      "execution_count": null,
      "outputs": []
    },
    {
      "cell_type": "code",
      "source": [
        "from matplotlib.pyplot import plot, savefig\n",
        "\n",
        "# Set up the figure\n",
        "plt.figure(figsize=(12, 6))\n",
        "\n",
        "# Create a bar chart\n",
        "colors = ['#636EFA', '#EF553B', '#00CC96', '#AB63FA', '#FFA15A', '#19D3F3']\n",
        "plt.bar(models, accuracies, color=colors)\n",
        "\n",
        "# Add titles and labels\n",
        "plt.title(\"Model Accuracy Comparison\", fontsize=16)\n",
        "plt.xlabel(\"Model Configuration\", fontsize=14)\n",
        "plt.ylabel(\"Accuracy (%)\", fontsize=14)\n",
        "\n",
        "# Rotate x labels for readability\n",
        "plt.xticks(rotation=45, ha='right')\n",
        "\n",
        "# Set a transparent background\n",
        "plt.gca().set_facecolor((0, 0, 0, 0))  # Transparent background\n",
        "plt.savefig(\"accuracy_comparison_matplotlib.png\", transparent=True, dpi=300, bbox_inches=\"tight\")\n",
        "\n",
        "savefig('acc results.png', transparent=True)\n",
        "\n",
        "# Show plot\n",
        "plt.show()"
      ],
      "metadata": {
        "colab": {
          "base_uri": "https://localhost:8080/",
          "height": 725
        },
        "id": "S5G3eptrUWxh",
        "outputId": "b5b9ad69-e3be-468b-8d25-d4f36f23e7a6"
      },
      "execution_count": null,
      "outputs": [
        {
          "output_type": "display_data",
          "data": {
            "text/plain": [
              "<Figure size 1200x600 with 1 Axes>"
            ],
            "image/png": "[encoded data removed]"
          },
          "metadata": {}
        }
      ]
    }
  ]
}